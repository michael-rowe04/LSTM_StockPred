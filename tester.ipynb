{
 "cells": [
  {
   "cell_type": "code",
   "execution_count": 1,
   "metadata": {},
   "outputs": [],
   "source": [
    "from createDS import dataset\n",
    "asml = dataset('ASML','6mo','OG')\n",
    "X_train, X_test, y_train, y_test, todays_data = asml.split(1)"
   ]
  },
  {
   "cell_type": "code",
   "execution_count": 2,
   "metadata": {},
   "outputs": [
    {
     "data": {
      "text/html": [
       "<div>\n",
       "<style scoped>\n",
       "    .dataframe tbody tr th:only-of-type {\n",
       "        vertical-align: middle;\n",
       "    }\n",
       "\n",
       "    .dataframe tbody tr th {\n",
       "        vertical-align: top;\n",
       "    }\n",
       "\n",
       "    .dataframe thead th {\n",
       "        text-align: right;\n",
       "    }\n",
       "</style>\n",
       "<table border=\"1\" class=\"dataframe\">\n",
       "  <thead>\n",
       "    <tr style=\"text-align: right;\">\n",
       "      <th></th>\n",
       "      <th>RSI</th>\n",
       "      <th>AROOND_14</th>\n",
       "      <th>AROONU_14</th>\n",
       "      <th>AROONOSC_14</th>\n",
       "      <th>MACD_12_26_9</th>\n",
       "      <th>MACDh_12_26_9</th>\n",
       "      <th>MACDs_12_26_9</th>\n",
       "      <th>ADX_14</th>\n",
       "      <th>DMP_14</th>\n",
       "      <th>DMN_14</th>\n",
       "    </tr>\n",
       "    <tr>\n",
       "      <th>Date</th>\n",
       "      <th></th>\n",
       "      <th></th>\n",
       "      <th></th>\n",
       "      <th></th>\n",
       "      <th></th>\n",
       "      <th></th>\n",
       "      <th></th>\n",
       "      <th></th>\n",
       "      <th></th>\n",
       "      <th></th>\n",
       "    </tr>\n",
       "  </thead>\n",
       "  <tbody>\n",
       "    <tr>\n",
       "      <th>2023-03-24 00:00:00-04:00</th>\n",
       "      <td>0.772829</td>\n",
       "      <td>0.357143</td>\n",
       "      <td>0.928571</td>\n",
       "      <td>0.571429</td>\n",
       "      <td>-0.098428</td>\n",
       "      <td>1.000000</td>\n",
       "      <td>-0.576633</td>\n",
       "      <td>0.750228</td>\n",
       "      <td>0.510603</td>\n",
       "      <td>0.574894</td>\n",
       "    </tr>\n",
       "    <tr>\n",
       "      <th>2023-03-27 00:00:00-04:00</th>\n",
       "      <td>0.754030</td>\n",
       "      <td>0.285714</td>\n",
       "      <td>0.857143</td>\n",
       "      <td>0.571429</td>\n",
       "      <td>-0.065131</td>\n",
       "      <td>0.867696</td>\n",
       "      <td>-0.476576</td>\n",
       "      <td>0.708652</td>\n",
       "      <td>0.482101</td>\n",
       "      <td>0.542805</td>\n",
       "    </tr>\n",
       "    <tr>\n",
       "      <th>2023-03-28 00:00:00-04:00</th>\n",
       "      <td>0.730177</td>\n",
       "      <td>0.214286</td>\n",
       "      <td>0.785714</td>\n",
       "      <td>0.571429</td>\n",
       "      <td>-0.054240</td>\n",
       "      <td>0.716300</td>\n",
       "      <td>-0.393977</td>\n",
       "      <td>0.653622</td>\n",
       "      <td>0.458712</td>\n",
       "      <td>0.625942</td>\n",
       "    </tr>\n",
       "    <tr>\n",
       "      <th>2023-03-29 00:00:00-04:00</th>\n",
       "      <td>0.822159</td>\n",
       "      <td>0.142857</td>\n",
       "      <td>0.714286</td>\n",
       "      <td>0.571429</td>\n",
       "      <td>0.026195</td>\n",
       "      <td>0.736572</td>\n",
       "      <td>-0.309040</td>\n",
       "      <td>0.644074</td>\n",
       "      <td>0.570744</td>\n",
       "      <td>0.564585</td>\n",
       "    </tr>\n",
       "    <tr>\n",
       "      <th>2023-03-30 00:00:00-04:00</th>\n",
       "      <td>0.891052</td>\n",
       "      <td>0.071429</td>\n",
       "      <td>1.000000</td>\n",
       "      <td>0.928571</td>\n",
       "      <td>0.153404</td>\n",
       "      <td>0.847888</td>\n",
       "      <td>-0.211268</td>\n",
       "      <td>0.668513</td>\n",
       "      <td>0.640790</td>\n",
       "      <td>0.518354</td>\n",
       "    </tr>\n",
       "    <tr>\n",
       "      <th>...</th>\n",
       "      <td>...</td>\n",
       "      <td>...</td>\n",
       "      <td>...</td>\n",
       "      <td>...</td>\n",
       "      <td>...</td>\n",
       "      <td>...</td>\n",
       "      <td>...</td>\n",
       "      <td>...</td>\n",
       "      <td>...</td>\n",
       "      <td>...</td>\n",
       "    </tr>\n",
       "    <tr>\n",
       "      <th>2023-07-28 00:00:00-04:00</th>\n",
       "      <td>0.745246</td>\n",
       "      <td>0.571429</td>\n",
       "      <td>0.285714</td>\n",
       "      <td>-0.285714</td>\n",
       "      <td>-0.156394</td>\n",
       "      <td>-0.296609</td>\n",
       "      <td>-0.046517</td>\n",
       "      <td>0.637800</td>\n",
       "      <td>0.583307</td>\n",
       "      <td>0.795142</td>\n",
       "    </tr>\n",
       "    <tr>\n",
       "      <th>2023-07-31 00:00:00-04:00</th>\n",
       "      <td>0.736485</td>\n",
       "      <td>0.500000</td>\n",
       "      <td>0.214286</td>\n",
       "      <td>-0.285714</td>\n",
       "      <td>-0.112307</td>\n",
       "      <td>-0.147654</td>\n",
       "      <td>-0.063543</td>\n",
       "      <td>0.596252</td>\n",
       "      <td>0.569646</td>\n",
       "      <td>0.764550</td>\n",
       "    </tr>\n",
       "    <tr>\n",
       "      <th>2023-08-01 00:00:00-04:00</th>\n",
       "      <td>0.708627</td>\n",
       "      <td>0.428571</td>\n",
       "      <td>0.142857</td>\n",
       "      <td>-0.285714</td>\n",
       "      <td>-0.098901</td>\n",
       "      <td>-0.090868</td>\n",
       "      <td>-0.074022</td>\n",
       "      <td>0.566872</td>\n",
       "      <td>0.549595</td>\n",
       "      <td>0.787242</td>\n",
       "    </tr>\n",
       "    <tr>\n",
       "      <th>2023-08-02 00:00:00-04:00</th>\n",
       "      <td>0.604589</td>\n",
       "      <td>0.357143</td>\n",
       "      <td>0.071429</td>\n",
       "      <td>-0.285714</td>\n",
       "      <td>-0.181959</td>\n",
       "      <td>-0.241560</td>\n",
       "      <td>-0.101877</td>\n",
       "      <td>0.577904</td>\n",
       "      <td>0.495477</td>\n",
       "      <td>0.934267</td>\n",
       "    </tr>\n",
       "    <tr>\n",
       "      <th>2023-08-03 00:00:00-04:00</th>\n",
       "      <td>0.597045</td>\n",
       "      <td>0.285714</td>\n",
       "      <td>0.000000</td>\n",
       "      <td>-0.285714</td>\n",
       "      <td>-0.252527</td>\n",
       "      <td>-0.336721</td>\n",
       "      <td>-0.140705</td>\n",
       "      <td>0.601445</td>\n",
       "      <td>0.475900</td>\n",
       "      <td>0.989922</td>\n",
       "    </tr>\n",
       "  </tbody>\n",
       "</table>\n",
       "<p>91 rows × 10 columns</p>\n",
       "</div>"
      ],
      "text/plain": [
       "                                RSI  AROOND_14  AROONU_14  AROONOSC_14  \\\n",
       "Date                                                                     \n",
       "2023-03-24 00:00:00-04:00  0.772829   0.357143   0.928571     0.571429   \n",
       "2023-03-27 00:00:00-04:00  0.754030   0.285714   0.857143     0.571429   \n",
       "2023-03-28 00:00:00-04:00  0.730177   0.214286   0.785714     0.571429   \n",
       "2023-03-29 00:00:00-04:00  0.822159   0.142857   0.714286     0.571429   \n",
       "2023-03-30 00:00:00-04:00  0.891052   0.071429   1.000000     0.928571   \n",
       "...                             ...        ...        ...          ...   \n",
       "2023-07-28 00:00:00-04:00  0.745246   0.571429   0.285714    -0.285714   \n",
       "2023-07-31 00:00:00-04:00  0.736485   0.500000   0.214286    -0.285714   \n",
       "2023-08-01 00:00:00-04:00  0.708627   0.428571   0.142857    -0.285714   \n",
       "2023-08-02 00:00:00-04:00  0.604589   0.357143   0.071429    -0.285714   \n",
       "2023-08-03 00:00:00-04:00  0.597045   0.285714   0.000000    -0.285714   \n",
       "\n",
       "                           MACD_12_26_9  MACDh_12_26_9  MACDs_12_26_9  \\\n",
       "Date                                                                    \n",
       "2023-03-24 00:00:00-04:00     -0.098428       1.000000      -0.576633   \n",
       "2023-03-27 00:00:00-04:00     -0.065131       0.867696      -0.476576   \n",
       "2023-03-28 00:00:00-04:00     -0.054240       0.716300      -0.393977   \n",
       "2023-03-29 00:00:00-04:00      0.026195       0.736572      -0.309040   \n",
       "2023-03-30 00:00:00-04:00      0.153404       0.847888      -0.211268   \n",
       "...                                 ...            ...            ...   \n",
       "2023-07-28 00:00:00-04:00     -0.156394      -0.296609      -0.046517   \n",
       "2023-07-31 00:00:00-04:00     -0.112307      -0.147654      -0.063543   \n",
       "2023-08-01 00:00:00-04:00     -0.098901      -0.090868      -0.074022   \n",
       "2023-08-02 00:00:00-04:00     -0.181959      -0.241560      -0.101877   \n",
       "2023-08-03 00:00:00-04:00     -0.252527      -0.336721      -0.140705   \n",
       "\n",
       "                             ADX_14    DMP_14    DMN_14  \n",
       "Date                                                     \n",
       "2023-03-24 00:00:00-04:00  0.750228  0.510603  0.574894  \n",
       "2023-03-27 00:00:00-04:00  0.708652  0.482101  0.542805  \n",
       "2023-03-28 00:00:00-04:00  0.653622  0.458712  0.625942  \n",
       "2023-03-29 00:00:00-04:00  0.644074  0.570744  0.564585  \n",
       "2023-03-30 00:00:00-04:00  0.668513  0.640790  0.518354  \n",
       "...                             ...       ...       ...  \n",
       "2023-07-28 00:00:00-04:00  0.637800  0.583307  0.795142  \n",
       "2023-07-31 00:00:00-04:00  0.596252  0.569646  0.764550  \n",
       "2023-08-01 00:00:00-04:00  0.566872  0.549595  0.787242  \n",
       "2023-08-02 00:00:00-04:00  0.577904  0.495477  0.934267  \n",
       "2023-08-03 00:00:00-04:00  0.601445  0.475900  0.989922  \n",
       "\n",
       "[91 rows x 10 columns]"
      ]
     },
     "execution_count": 2,
     "metadata": {},
     "output_type": "execute_result"
    }
   ],
   "source": [
    "X_train"
   ]
  },
  {
   "cell_type": "code",
   "execution_count": 3,
   "metadata": {},
   "outputs": [
    {
     "data": {
      "text/plain": [
       "Date\n",
       "2023-03-24 00:00:00-04:00   -0.085958\n",
       "2023-03-27 00:00:00-04:00   -0.107776\n",
       "2023-03-28 00:00:00-04:00    0.485287\n",
       "2023-03-29 00:00:00-04:00    0.426105\n",
       "2023-03-30 00:00:00-04:00    0.095253\n",
       "                               ...   \n",
       "2023-07-28 00:00:00-04:00   -0.043638\n",
       "2023-07-31 00:00:00-04:00   -0.135866\n",
       "2023-08-01 00:00:00-04:00   -0.578864\n",
       "2023-08-02 00:00:00-04:00   -0.048001\n",
       "2023-08-03 00:00:00-04:00         NaN\n",
       "Name: Change, Length: 91, dtype: float64"
      ]
     },
     "execution_count": 3,
     "metadata": {},
     "output_type": "execute_result"
    }
   ],
   "source": [
    "y_train"
   ]
  },
  {
   "cell_type": "code",
   "execution_count": 36,
   "metadata": {},
   "outputs": [],
   "source": [
    "import json\n",
    "the_model = \"LSTM1\"\n",
    "model_dict = json.load(open(\"my_models/\" + the_model + \"/\" + the_model + \".json\"))\n",
    "X_train, X_test, y_train, y_test, todays_data = dataset(model_dict[\"data_before_save\"][\"stock\"],model_dict[\"data_before_save\"][\"period\"],model_dict[\"data_before_save\"][\"train_data_name\"]).split(1)\n",
    "X_train = X_train.loc[model_dict['data_after_save']['date_last_trained']:].iloc[1:] #there will be no data if training data is last from today\n",
    "#y_train = y_train.loc[model_dict['data_after_save']['date_last_trained']:].iloc[1:]\n",
    "#last_day_trained_on = str(X_train.iloc[-1]).split(\"Name:\")[-1].split(\", \")[0]\n",
    "#print(model_dict['data_after_save']['date_last_trained'])"
   ]
  },
  {
   "cell_type": "code",
   "execution_count": 37,
   "metadata": {},
   "outputs": [
    {
     "data": {
      "text/html": [
       "<div>\n",
       "<style scoped>\n",
       "    .dataframe tbody tr th:only-of-type {\n",
       "        vertical-align: middle;\n",
       "    }\n",
       "\n",
       "    .dataframe tbody tr th {\n",
       "        vertical-align: top;\n",
       "    }\n",
       "\n",
       "    .dataframe thead th {\n",
       "        text-align: right;\n",
       "    }\n",
       "</style>\n",
       "<table border=\"1\" class=\"dataframe\">\n",
       "  <thead>\n",
       "    <tr style=\"text-align: right;\">\n",
       "      <th></th>\n",
       "      <th>RSI</th>\n",
       "      <th>AROOND_14</th>\n",
       "      <th>AROONU_14</th>\n",
       "      <th>AROONOSC_14</th>\n",
       "      <th>MACD_12_26_9</th>\n",
       "      <th>MACDh_12_26_9</th>\n",
       "      <th>MACDs_12_26_9</th>\n",
       "      <th>ADX_14</th>\n",
       "      <th>DMP_14</th>\n",
       "      <th>DMN_14</th>\n",
       "    </tr>\n",
       "    <tr>\n",
       "      <th>Date</th>\n",
       "      <th></th>\n",
       "      <th></th>\n",
       "      <th></th>\n",
       "      <th></th>\n",
       "      <th></th>\n",
       "      <th></th>\n",
       "      <th></th>\n",
       "      <th></th>\n",
       "      <th></th>\n",
       "      <th></th>\n",
       "    </tr>\n",
       "  </thead>\n",
       "  <tbody>\n",
       "    <tr>\n",
       "      <th>2023-08-03 00:00:00-04:00</th>\n",
       "      <td>0.597045</td>\n",
       "      <td>0.285714</td>\n",
       "      <td>0.0</td>\n",
       "      <td>-0.285714</td>\n",
       "      <td>-0.252527</td>\n",
       "      <td>-0.336721</td>\n",
       "      <td>-0.140705</td>\n",
       "      <td>0.601445</td>\n",
       "      <td>0.4759</td>\n",
       "      <td>0.989922</td>\n",
       "    </tr>\n",
       "  </tbody>\n",
       "</table>\n",
       "</div>"
      ],
      "text/plain": [
       "                                RSI  AROOND_14  AROONU_14  AROONOSC_14  \\\n",
       "Date                                                                     \n",
       "2023-08-03 00:00:00-04:00  0.597045   0.285714        0.0    -0.285714   \n",
       "\n",
       "                           MACD_12_26_9  MACDh_12_26_9  MACDs_12_26_9  \\\n",
       "Date                                                                    \n",
       "2023-08-03 00:00:00-04:00     -0.252527      -0.336721      -0.140705   \n",
       "\n",
       "                             ADX_14  DMP_14    DMN_14  \n",
       "Date                                                   \n",
       "2023-08-03 00:00:00-04:00  0.601445  0.4759  0.989922  "
      ]
     },
     "execution_count": 37,
     "metadata": {},
     "output_type": "execute_result"
    }
   ],
   "source": [
    "todays_data"
   ]
  },
  {
   "cell_type": "code",
   "execution_count": 27,
   "metadata": {},
   "outputs": [
    {
     "data": {
      "text/plain": [
       "' 2023-08-03 00:00:00-04:00'"
      ]
     },
     "execution_count": 27,
     "metadata": {},
     "output_type": "execute_result"
    }
   ],
   "source": [
    "str(X_train.loc[model_dict['data_after_save']['date_last_trained']:].iloc[-1]).split(\"Name:\")[-1].split(\", \")[0]"
   ]
  },
  {
   "cell_type": "code",
   "execution_count": 35,
   "metadata": {},
   "outputs": [
    {
     "data": {
      "text/plain": [
       "' 2023-08-03 00:00:00-04:00'"
      ]
     },
     "execution_count": 35,
     "metadata": {},
     "output_type": "execute_result"
    }
   ],
   "source": [
    "str(X_train.iloc[-1]).split(\"Name:\")[-1].split(\", \")[0]"
   ]
  },
  {
   "cell_type": "code",
   "execution_count": 20,
   "metadata": {},
   "outputs": [],
   "source": [
    "last_day_trained_on = str(X_train.loc[model_dict['data_after_save']['date_last_trained']:].iloc[1:]).split(\"Name:\")[-1].split(\", \")[0]"
   ]
  },
  {
   "cell_type": "code",
   "execution_count": 22,
   "metadata": {},
   "outputs": [
    {
     "data": {
      "text/html": [
       "<div>\n",
       "<style scoped>\n",
       "    .dataframe tbody tr th:only-of-type {\n",
       "        vertical-align: middle;\n",
       "    }\n",
       "\n",
       "    .dataframe tbody tr th {\n",
       "        vertical-align: top;\n",
       "    }\n",
       "\n",
       "    .dataframe thead th {\n",
       "        text-align: right;\n",
       "    }\n",
       "</style>\n",
       "<table border=\"1\" class=\"dataframe\">\n",
       "  <thead>\n",
       "    <tr style=\"text-align: right;\">\n",
       "      <th></th>\n",
       "      <th>RSI</th>\n",
       "      <th>AROOND_14</th>\n",
       "      <th>AROONU_14</th>\n",
       "      <th>AROONOSC_14</th>\n",
       "      <th>MACD_12_26_9</th>\n",
       "      <th>MACDh_12_26_9</th>\n",
       "      <th>MACDs_12_26_9</th>\n",
       "      <th>ADX_14</th>\n",
       "      <th>DMP_14</th>\n",
       "      <th>DMN_14</th>\n",
       "    </tr>\n",
       "    <tr>\n",
       "      <th>Date</th>\n",
       "      <th></th>\n",
       "      <th></th>\n",
       "      <th></th>\n",
       "      <th></th>\n",
       "      <th></th>\n",
       "      <th></th>\n",
       "      <th></th>\n",
       "      <th></th>\n",
       "      <th></th>\n",
       "      <th></th>\n",
       "    </tr>\n",
       "  </thead>\n",
       "  <tbody>\n",
       "  </tbody>\n",
       "</table>\n",
       "</div>"
      ],
      "text/plain": [
       "Empty DataFrame\n",
       "Columns: [RSI, AROOND_14, AROONU_14, AROONOSC_14, MACD_12_26_9, MACDh_12_26_9, MACDs_12_26_9, ADX_14, DMP_14, DMN_14]\n",
       "Index: []"
      ]
     },
     "execution_count": 22,
     "metadata": {},
     "output_type": "execute_result"
    }
   ],
   "source": [
    "X_train.loc[model_dict['data_after_save']['date_last_trained']:].iloc[1:]"
   ]
  },
  {
   "cell_type": "code",
   "execution_count": 21,
   "metadata": {},
   "outputs": [
    {
     "data": {
      "text/plain": [
       "'Empty DataFrame\\nColumns: [RSI'"
      ]
     },
     "execution_count": 21,
     "metadata": {},
     "output_type": "execute_result"
    }
   ],
   "source": [
    "last_day_trained_on"
   ]
  },
  {
   "cell_type": "code",
   "execution_count": 12,
   "metadata": {},
   "outputs": [
    {
     "data": {
      "text/plain": [
       "Date\n",
       "2023-08-03 00:00:00-04:00   NaN\n",
       "Name: Change, dtype: float64"
      ]
     },
     "execution_count": 12,
     "metadata": {},
     "output_type": "execute_result"
    }
   ],
   "source": [
    "y_train"
   ]
  }
 ],
 "metadata": {
  "kernelspec": {
   "display_name": "Python 3",
   "language": "python",
   "name": "python3"
  },
  "language_info": {
   "codemirror_mode": {
    "name": "ipython",
    "version": 3
   },
   "file_extension": ".py",
   "mimetype": "text/x-python",
   "name": "python",
   "nbconvert_exporter": "python",
   "pygments_lexer": "ipython3",
   "version": "3.8.2"
  },
  "orig_nbformat": 4
 },
 "nbformat": 4,
 "nbformat_minor": 2
}
